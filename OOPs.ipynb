{
  "nbformat": 4,
  "nbformat_minor": 0,
  "metadata": {
    "colab": {
      "provenance": []
    },
    "kernelspec": {
      "name": "python3",
      "display_name": "Python 3"
    },
    "language_info": {
      "name": "python"
    }
  },
  "cells": [
    {
      "cell_type": "markdown",
      "source": [
        "# Python OOPs Questions"
      ],
      "metadata": {
        "id": "l64wYQHFsbsw"
      }
    },
    {
      "cell_type": "markdown",
      "source": [
        "**Question-1**.What is Object-Oriented Programming (OOP).\n",
        "\n",
        "Answer-1.Object-Oriented Programming (OOP) is a programming paradigm that is based on the concept of \"objects\", which contain both data (attributes) and functions (methods) that operate on the data."
      ],
      "metadata": {
        "id": "IbGO-4xNFkMr"
      }
    },
    {
      "cell_type": "markdown",
      "source": [
        "**Question-**2. What is a class in OOP.\n",
        "\n",
        "Answer-2.A class is a blueprint or template for creating objects in Object-Oriented Programming. It defines the attributes (data) and methods (functions) that the objects created from the class will have.\n"
      ],
      "metadata": {
        "id": "k6_X_Xi3Gajr"
      }
    },
    {
      "cell_type": "markdown",
      "source": [
        "**Question-**3. What is an object in OOP.\n",
        "\n",
        "Answer-3.An object is an instance of a class. It represents a real-world entity with attributes (data) and behavior (methods) defined by its class.\n",
        "\n"
      ],
      "metadata": {
        "id": "Uuwe1D14Gb8N"
      }
    },
    {
      "cell_type": "markdown",
      "source": [
        "**Question-**4.What is the difference between abstraction and encapsulation.\n",
        "\n",
        "Answer-4.\n",
        "# Abstraction\n",
        "Abstraction is the process of hiding implementation details and showing only the essential features of an object.\n",
        "\n",
        "Focus: What an object does.\n",
        "\n",
        "Example: When you use a TV remote, you don’t need to know how the circuits work—just which button does what.\n",
        "\n",
        "# Encapsulation\n",
        "Encapsulation is the process of bundling data and methods that operate on that data within a single unit (class) and restricting access using access modifiers (like private).\n",
        "\n",
        "Focus: How the internal data is protected.\n",
        "\n",
        "Example: In a bank account class, the balance is private and accessed only through methods."
      ],
      "metadata": {
        "id": "L69wSjfQGb4b"
      }
    },
    {
      "cell_type": "markdown",
      "source": [
        "**Question-**5.What are dunder methods in Python.\n",
        "\n",
        "\n",
        "Answer-5.Dunder methods (short for double underscore methods) are special, built-in methods in Python that begin and end with two underscores (e.g., __init__, __str__, __len__).\n",
        "\n",
        "They are also known as:\n",
        "\n",
        "Magic methods\n",
        "\n",
        "Special methods"
      ],
      "metadata": {
        "id": "ic7MKsC-Gb0N"
      }
    },
    {
      "cell_type": "markdown",
      "source": [
        "**Question-**6. Explain the concept of inheritance in OOP.\n",
        "\n",
        "Answer-6.Inheritance is an OOP concept where a child class (subclass) inherits properties and behaviors (attributes and methods) from a parent class (superclass).\n",
        "\n",
        "It promotes code reusability and helps in creating a hierarchical structure of classes."
      ],
      "metadata": {
        "id": "JlEwjE0BGbwe"
      }
    },
    {
      "cell_type": "markdown",
      "source": [
        "**Question-**7.  What is polymorphism in OOP.\n",
        "\n",
        "Answer-7. Polymorphism means “many forms”. In OOP, it allows the same method name to behave differently depending on the object calling it."
      ],
      "metadata": {
        "id": "IJ_CtTJ_Gbs9"
      }
    },
    {
      "cell_type": "markdown",
      "source": [
        "**Question-**8. How is encapsulation achieved in Python.\n",
        "\n",
        "Answer-8. Encapsulation in Python is the practice of hiding internal object details and restricting direct access to them. It allows you to control access to attributes and methods to protect data integrity.\n",
        "\n"
      ],
      "metadata": {
        "id": "3f25_ilXGbpA"
      }
    },
    {
      "cell_type": "markdown",
      "source": [
        "**Question-**9. What is a constructor in Python.\n",
        "\n",
        "Answer-9. A constructor in Python is a special method used to initialize objects of a class. It is automatically called when an object is created.\n",
        "\n"
      ],
      "metadata": {
        "id": "QF8QciUvGblB"
      }
    },
    {
      "cell_type": "markdown",
      "source": [
        "**Question-**10. What are class and static methods in Python.\n",
        "\n",
        "Answer-10.\n",
        "# Class Method\n",
        "Defined with the @classmethod decorator.\n",
        "\n",
        "First argument is cls (refers to the class itself).\n",
        "\n",
        "Can access and modify class variables.\n",
        "\n",
        "# Static Method\n",
        "Defined with the @staticmethod decorator.\n",
        "\n",
        "Doesn’t take self or cls as the first parameter.\n",
        "\n",
        "Cannot access or modify instance/class data.\n",
        "\n",
        "Acts like a regular function, just inside a class for logical grouping."
      ],
      "metadata": {
        "id": "COQx0oRuGbgW"
      }
    },
    {
      "cell_type": "markdown",
      "source": [
        "**Question-**11.What is method overloading in Python.\n",
        "\n",
        "Answer-11.Method overloading means defining multiple methods with the same name but different arguments (like in Java or C++). Python does not support traditional method overloading—you can't define multiple methods with the same name in a class."
      ],
      "metadata": {
        "id": "vXMQ324SGbb_"
      }
    },
    {
      "cell_type": "markdown",
      "source": [
        "**Question-**12.What is method overriding in OOP.\n",
        "\n",
        "\n",
        "Answer-12.Method overriding is a concept in Object-Oriented Programming (OOP) where a child class provides its own implementation of a method that is already defined in the parent class."
      ],
      "metadata": {
        "id": "4JvytkYNmd7q"
      }
    },
    {
      "cell_type": "markdown",
      "source": [
        "**Question-**13.What is a property decorator in Python.\n",
        "\n",
        "Answer-13.he @property decorator in Python is used to define getter methods that allow a method to be accessed like an attribute—without using parentheses ().\n",
        "\n",
        "It is part of Python's approach to encapsulation, allowing controlled access to private attributes."
      ],
      "metadata": {
        "id": "atNV9ONLmd4S"
      }
    },
    {
      "cell_type": "markdown",
      "source": [
        "**Question-**14. Why is polymorphism important in OOP.\n",
        "\n",
        "Answer-14.Polymorphism is one of the core principles of Object-Oriented Programming (OOP), and it's important because it allows different objects to respond to the same method call in different ways."
      ],
      "metadata": {
        "id": "a2HEBN4_md00"
      }
    },
    {
      "cell_type": "markdown",
      "source": [
        "**Question-**15.What is an abstract class in Python.\n",
        "\n",
        "Answer-15.An abstract class in Python is a base class that cannot be instantiated directly and is designed to be inherited by other classes. It may contain abstract methods, which are declared but not implemented in the base class.\n",
        "\n",
        "Abstract classes are used to define a common interface or blueprint for subclasses.\n",
        "\n"
      ],
      "metadata": {
        "id": "KmQvcoCsmdxH"
      }
    },
    {
      "cell_type": "markdown",
      "source": [
        "**Question-**16.What are the advantages of OOP..\n",
        "Object-Oriented Programming (OOP) provides a structured and modular way of programming, especially useful for complex and large-scale software development.\n",
        "\n",
        "Key Benefits of OOP:\n",
        "\n",
        "**Modularity**\n",
        "\n",
        "Code is organized into classes and objects, making it easier to understand, debug, and maintain.\n",
        "\n",
        "**Reusability**\n",
        "\n",
        "Once a class is written, it can be reused across programs or inherited by other classes.\n",
        "\n",
        "**Encapsulation**\n",
        "\n",
        "Data is hidden inside classes, reducing the risk of accidental changes and improving data security.\n",
        "\n",
        "**Inheritance**\n",
        "\n",
        "New classes can be built on top of existing ones, reducing code duplication.\n",
        "\n",
        "**Polymorphism**\n",
        "\n",
        "The same interface can be used for different data types, enhancing flexibility and extensibility.\n",
        "\n",
        "**Scalability**\n",
        "\n",
        "Easier to scale applications by adding new classes or extending existing ones without breaking existing code.\n",
        "\n",
        "**Real-world Modeling**\n",
        "\n",
        "Objects in code map closely to real-world entities, making programs more intuitive.\n",
        "\n"
      ],
      "metadata": {
        "id": "NbA3Mml6mdtZ"
      }
    },
    {
      "cell_type": "markdown",
      "source": [
        "**Question-**17. What is the difference between a class variable and an instance variable.\n",
        "\n",
        "Answer-17.\n",
        "#nstance Variable\n",
        "Defined inside the constructor (__init__)\n",
        "\n",
        "Unique to each object (instance)\n",
        "\n",
        "Used to store object-specific data\n",
        "\n",
        "\n",
        "# Class Variable\n",
        "Defined inside the class but outside any method\n",
        "\n",
        "Shared across all instances of the class\n",
        "\n",
        "Used to store class-wide data\n"
      ],
      "metadata": {
        "id": "cA2GPjbbmdpR"
      }
    },
    {
      "cell_type": "markdown",
      "source": [
        "**Question-**18.What is multiple inheritance in Python.\n",
        "\n",
        "Answer-18.Multiple inheritance is a feature in Python where a class can inherit from more than one parent class. This allows the child class to have the attributes and methods of all its parent classes.\n",
        "\n"
      ],
      "metadata": {
        "id": "F6Oef0pEmdmP"
      }
    },
    {
      "cell_type": "markdown",
      "source": [
        "**Question-**19.H Explain the purpose of ‘’__str__’ and ‘__repr__’ ‘ methods in Python.\n",
        "\n",
        "Answer-19.Both __str__ and __repr__ are dunder (double underscore) methods used to define how objects are represented as strings in Python. They serve different audiences and use cases.\n",
        "\n",
        "# __repr__() → Developer-Focused Representation\n",
        "Called by repr() or just typing the object in an interactive session.\n",
        "\n",
        "Should return a valid Python expression (if possible) that can recreate the object.\n",
        "\n",
        "Intended for debugging and developers.\n",
        "\n",
        "\n",
        "#__str__() → User-Friendly String\n",
        "Called by print() and str().\n",
        "\n",
        "Intended for end-users.\n",
        "\n",
        "Should return a readable and nicely formatted string."
      ],
      "metadata": {
        "id": "0oPkzOm-mdiA"
      }
    },
    {
      "cell_type": "markdown",
      "source": [
        "**Question-**20.What is the significance of the ‘super()’ function in Python.\n",
        "\n",
        "Answer-20.The super() function in Python is used to call methods from a parent (superclass) in a child (subclass). It plays an important role in inheritance, especially in maintaining the method resolution order (MRO) and ensuring proper initialization in multi-level and multiple inheritance scenarios.\n",
        "\n",
        "\n"
      ],
      "metadata": {
        "id": "WKJXd9_Wp5vZ"
      }
    },
    {
      "cell_type": "markdown",
      "source": [
        "**Question-**21.What is the significance of the __del__ method in Python.\n",
        "\n",
        "Answer-21. The __del__ method is a destructor in Python. It is called automatically when an object is about to be destroyed, usually when there are no more references to it.\n",
        "\n"
      ],
      "metadata": {
        "id": "EYoLOC7Ep5sR"
      }
    },
    {
      "cell_type": "markdown",
      "source": [
        "**Question-**22. What is the difference between @staticmethod and @classmethod in Python.\n",
        "\n",
        "Answer-22.\n",
        "#@staticmethod\n",
        "No access to self or cls\n",
        "\n",
        "Behaves like a regular function inside a class.\n",
        "\n",
        "Cannot access or modify class or instance variables.\n",
        "\n",
        "Used for utility/helper methods related to the class.\n",
        "\n",
        "\n",
        "#@classmethod\n",
        "First parameter is cls (refers to the class, not instance).\n",
        "\n",
        "Can access or modify class variables.\n",
        "\n",
        "Often used for factory methods that create objects in specific ways.\n"
      ],
      "metadata": {
        "id": "HUcp0gr7p5oT"
      }
    },
    {
      "cell_type": "markdown",
      "source": [
        "**Question-**23. How does polymorphism work in Python with inheritance.\n",
        "\n",
        "Answer-23. In Python, polymorphism with inheritance allows a child class to override a method from its parent class, so that the same method name can perform different behaviors depending on the object that calls it."
      ],
      "metadata": {
        "id": "B6VlPHCLp5ko"
      }
    },
    {
      "cell_type": "markdown",
      "source": [
        "**Question-**24.What is method chaining in Python OOP.\n",
        "\n",
        "Answer-24.Method chaining is a technique in Python (and other OOP languages) where multiple method calls are connected in a single line, one after another, using dot notation (.)."
      ],
      "metadata": {
        "id": "C6HC_pqGp5gw"
      }
    },
    {
      "cell_type": "markdown",
      "source": [
        "**Question-**25.What is the purpose of the __call__ method in Python?\n",
        "\n",
        "Answer-25.The __call__ method in Python allows an instance of a class to be called like a function. When you use parentheses () after an object, Python internally calls the object's __call__() method.\n",
        "\n"
      ],
      "metadata": {
        "id": "mm52yTdtp5ca"
      }
    },
    {
      "cell_type": "markdown",
      "source": [
        "# Practical Questions"
      ],
      "metadata": {
        "id": "iWljd9gCp5Yr"
      }
    },
    {
      "cell_type": "markdown",
      "source": [
        " Create a parent class Animal with a method speak() that prints a generic message. Create a child class Dog\n",
        "that overrides the speak() method to print \"Bark!\""
      ],
      "metadata": {
        "id": "1qgmAPtLp5U1"
      }
    },
    {
      "cell_type": "code",
      "source": [
        "class Animal:\n",
        "    def speak(self):\n",
        "        print(\"Animal speaks\")\n",
        "\n",
        "class Dog(Animal):\n",
        "    def speak(self):\n",
        "        print(\"Bark!\")\n",
        "\n",
        "# Test\n",
        "a = Animal()\n",
        "a.speak()  # Animal speaks\n",
        "\n",
        "d = Dog()\n",
        "d.speak()  # Bark!\n"
      ],
      "metadata": {
        "colab": {
          "base_uri": "https://localhost:8080/"
        },
        "id": "afnEKIbAs6ii",
        "outputId": "937122e4-a324-4601-fc07-c16010e0fe6c"
      },
      "execution_count": null,
      "outputs": [
        {
          "output_type": "stream",
          "name": "stdout",
          "text": [
            "Animal speaks\n",
            "Bark!\n"
          ]
        }
      ]
    },
    {
      "cell_type": "markdown",
      "source": [
        "Write a program to create an abstract class Shape with a method area(). Derive classes Circle and Rectangle\n",
        "from it and implement the area() method in both"
      ],
      "metadata": {
        "id": "uUdRj4ivp5Qx"
      }
    },
    {
      "cell_type": "code",
      "source": [
        "from abc import ABC, abstractmethod\n",
        "\n",
        "class Shape(ABC):\n",
        "    @abstractmethod\n",
        "    def area(self):\n",
        "        pass\n",
        "\n",
        "class Circle(Shape):\n",
        "    def __init__(self, radius):\n",
        "        self.radius = radius\n",
        "\n",
        "    def area(self):\n",
        "        return 3.14 * self.radius ** 2\n",
        "\n",
        "class Rectangle(Shape):\n",
        "    def __init__(self, length, width):\n",
        "        self.length = length\n",
        "        self.width = width\n",
        "\n",
        "    def area(self):\n",
        "        return self.length * self.width\n"
      ],
      "metadata": {
        "id": "E7vetp_1tB2Z"
      },
      "execution_count": null,
      "outputs": []
    },
    {
      "cell_type": "markdown",
      "source": [
        "Implement a multi-level inheritance scenario where a class Vehicle has an attribute type. Derive a class Car\n",
        "and further derive a class ElectricCar that adds a battery attribute."
      ],
      "metadata": {
        "id": "KYV3GLcvp5MH"
      }
    },
    {
      "cell_type": "code",
      "source": [
        "class Vehicle:\n",
        "    def __init__(self, type):\n",
        "        self.type = type\n",
        "\n",
        "class Car(Vehicle):\n",
        "    def __init__(self, type, brand):\n",
        "        super().__init__(type)\n",
        "        self.brand = brand\n",
        "\n",
        "class ElectricCar(Car):\n",
        "    def __init__(self, type, brand, battery):\n",
        "        super().__init__(type, brand)\n",
        "        self.battery = battery\n"
      ],
      "metadata": {
        "id": "08F37Hd7tN0B"
      },
      "execution_count": null,
      "outputs": []
    },
    {
      "cell_type": "markdown",
      "source": [
        " Demonstrate polymorphism by creating a base class Bird with a method fly(). Create two derived classes\n",
        "Sparrow and Penguin that override the fly() method.\n"
      ],
      "metadata": {
        "id": "4cB6LFl-p5H1"
      }
    },
    {
      "cell_type": "code",
      "source": [
        "class Bird:\n",
        "    def fly(self):\n",
        "        print(\"Bird is flying\")\n",
        "\n",
        "class Sparrow(Bird):\n",
        "    def fly(self):\n",
        "        print(\"Sparrow flies high\")\n",
        "\n",
        "class Penguin(Bird):\n",
        "    def fly(self):\n",
        "        print(\"Penguin can't fly\")\n"
      ],
      "metadata": {
        "id": "zaIP5fSStUsK"
      },
      "execution_count": null,
      "outputs": []
    },
    {
      "cell_type": "markdown",
      "source": [
        "Write a program to demonstrate encapsulation by creating a class BankAccount with private attributes\n",
        "balance and methods to deposit, withdraw, and check balance"
      ],
      "metadata": {
        "id": "N8DhaJUJp5Eg"
      }
    },
    {
      "cell_type": "code",
      "source": [
        "class BankAccount:\n",
        "    def __init__(self):\n",
        "        self.__balance = 0\n",
        "\n",
        "    def deposit(self, amount):\n",
        "        self.__balance += amount\n",
        "\n",
        "    def withdraw(self, amount):\n",
        "        if amount <= self.__balance:\n",
        "            self.__balance -= amount\n",
        "\n",
        "    def check_balance(self):\n",
        "        return self.__balance\n"
      ],
      "metadata": {
        "id": "dpCI-UYEtbep"
      },
      "execution_count": null,
      "outputs": []
    },
    {
      "cell_type": "markdown",
      "source": [
        "Demonstrate runtime polymorphism using a method play() in a base class Instrument. Derive classes Guitar\n",
        "and Piano that implement their own version of play()."
      ],
      "metadata": {
        "id": "zs7tOIEAp4_G"
      }
    },
    {
      "cell_type": "code",
      "source": [
        "class Instrument:\n",
        "    def play(self):\n",
        "        print(\"Playing instrument\")\n",
        "\n",
        "class Guitar(Instrument):\n",
        "    def play(self):\n",
        "        print(\"Playing Guitar\")\n",
        "\n",
        "class Piano(Instrument):\n",
        "    def play(self):\n",
        "        print(\"Playing Piano\")\n"
      ],
      "metadata": {
        "id": "ZOVymceGtipC"
      },
      "execution_count": null,
      "outputs": []
    },
    {
      "cell_type": "markdown",
      "source": [
        "Create a class MathOperations with a class method add_numbers() to add two numbers and a static\n",
        "method subtract_numbers() to subtract two numbers."
      ],
      "metadata": {
        "id": "S_b_GLV7p47_"
      }
    },
    {
      "cell_type": "code",
      "source": [
        "class MathOperations:\n",
        "    @classmethod\n",
        "    def add_numbers(cls, a, b):\n",
        "        return a + b\n",
        "\n",
        "    @staticmethod\n",
        "    def subtract_numbers(a, b):\n",
        "        return a - b\n"
      ],
      "metadata": {
        "id": "Wn2641WBtqbn"
      },
      "execution_count": null,
      "outputs": []
    },
    {
      "cell_type": "markdown",
      "source": [
        " Implement a class Person with a class method to count the total number of persons created"
      ],
      "metadata": {
        "id": "2omKBw2lp443"
      }
    },
    {
      "cell_type": "code",
      "source": [
        "class Person:\n",
        "    count = 0\n",
        "\n",
        "    def __init__(self, name):\n",
        "        self.name = name\n",
        "        Person.count += 1\n",
        "\n",
        "    @classmethod\n",
        "    def total_persons(cls):\n",
        "        return cls.count\n"
      ],
      "metadata": {
        "id": "0s0j8vyXtzdB"
      },
      "execution_count": null,
      "outputs": []
    },
    {
      "cell_type": "markdown",
      "source": [
        " Write a class Fraction with attributes numerator and denominator. Override the str method to display the\n",
        "fraction as \"numerator/denominator\"."
      ],
      "metadata": {
        "id": "a_96DVw0p41i"
      }
    },
    {
      "cell_type": "code",
      "source": [
        "class Fraction:\n",
        "    def __init__(self, numerator, denominator):\n",
        "        self.numerator = numerator\n",
        "        self.denominator = denominator\n",
        "\n",
        "    def __str__(self):\n",
        "        return f\"{self.numerator}/{self.denominator}\"\n"
      ],
      "metadata": {
        "id": "14lMnD-Pt5ce"
      },
      "execution_count": null,
      "outputs": []
    },
    {
      "cell_type": "markdown",
      "source": [
        " Demonstrate operator overloading by creating a class Vector and overriding the add method to add two\n",
        "vectors."
      ],
      "metadata": {
        "id": "dfZY97eUmdei"
      }
    },
    {
      "cell_type": "code",
      "source": [
        "class Vector:\n",
        "    def __init__(self, x, y):\n",
        "        self.x = x\n",
        "        self.y = y\n",
        "\n",
        "    def __add__(self, other):\n",
        "        return Vector(self.x + other.x, self.y + other.y)\n",
        "\n",
        "    def __str__(self):\n",
        "        return f\"({self.x}, {self.y})\"\n"
      ],
      "metadata": {
        "id": "1yZHgBcOuExq"
      },
      "execution_count": null,
      "outputs": []
    },
    {
      "cell_type": "markdown",
      "source": [
        " Create a class Person with attributes name and age. Add a method greet() that prints \"Hello, my name is\n",
        "{name} and I am {age} years old.\"\n",
        "\n",
        "\n"
      ],
      "metadata": {
        "id": "4OlmxLyhmdau"
      }
    },
    {
      "cell_type": "code",
      "source": [
        "class Person:\n",
        "    def __init__(self, name, age):\n",
        "        self.name = name\n",
        "        self.age = age\n",
        "\n",
        "    def greet(self):\n",
        "        print(f\"Hello, my name is {self.name} and I am {self.age} years old.\")\n"
      ],
      "metadata": {
        "id": "qGrgkvHHuMs0"
      },
      "execution_count": null,
      "outputs": []
    },
    {
      "cell_type": "markdown",
      "source": [
        " Implement a class Student with attributes name and grades. Create a method average_grade() to compute\n",
        "the average of the grades."
      ],
      "metadata": {
        "id": "RrOXRQ5ImdXH"
      }
    },
    {
      "cell_type": "code",
      "source": [
        "class Student:\n",
        "    def __init__(self, name, grades):\n",
        "        self.name = name\n",
        "        self.grades = grades\n",
        "\n",
        "    def average_grade(self):\n",
        "        return sum(self.grades) / len(self.grades)\n"
      ],
      "metadata": {
        "id": "qIUx6iSwuTbW"
      },
      "execution_count": null,
      "outputs": []
    },
    {
      "cell_type": "markdown",
      "source": [
        " Create a class Rectangle with methods set_dimensions() to set the dimensions and area() to calculate the\n",
        "area."
      ],
      "metadata": {
        "id": "aBPvkp5HmdTj"
      }
    },
    {
      "cell_type": "code",
      "source": [
        "class Rectangle:\n",
        "    def set_dimensions(self, length, width):\n",
        "        self.length = length\n",
        "        self.width = width\n",
        "\n",
        "    def area(self):\n",
        "        return self.length * self.width\n"
      ],
      "metadata": {
        "id": "NttteE3NuZk0"
      },
      "execution_count": null,
      "outputs": []
    },
    {
      "cell_type": "markdown",
      "source": [
        " Create a class Employee with a method calculate_salary() that computes the salary based on hours worked\n",
        "and hourly rate. Create a derived class Manager that adds a bonus to the salary."
      ],
      "metadata": {
        "id": "TDSDa1Y2mdQO"
      }
    },
    {
      "cell_type": "code",
      "source": [
        "class Employee:\n",
        "    def calculate_salary(self, hours, rate):\n",
        "        return hours * rate\n",
        "\n",
        "class Manager(Employee):\n",
        "    def calculate_salary(self, hours, rate, bonus):\n",
        "        base = super().calculate_salary(hours, rate)\n",
        "        return base + bonus\n"
      ],
      "metadata": {
        "id": "T7qGtkHUugar"
      },
      "execution_count": null,
      "outputs": []
    },
    {
      "cell_type": "markdown",
      "source": [
        "Create a class Product with attributes name, price, and quantity. Implement a method total_price() that\n",
        "calculates the total price of the product."
      ],
      "metadata": {
        "id": "FPlT_iLmmdMh"
      }
    },
    {
      "cell_type": "code",
      "source": [
        "class Product:\n",
        "    def __init__(self, name, price, quantity):\n",
        "        self.name = name\n",
        "        self.price = price\n",
        "        self.quantity = quantity\n",
        "\n",
        "    def total_price(self):\n",
        "        return self.price * self.quantity\n"
      ],
      "metadata": {
        "id": "nLYFgQrlun9v"
      },
      "execution_count": null,
      "outputs": []
    },
    {
      "cell_type": "markdown",
      "source": [
        " Create a class Animal with an abstract method sound(). Create two derived classes Cow and Sheep that\n",
        "implement the sound() method.\n",
        "\n",
        "\n"
      ],
      "metadata": {
        "id": "lRAIWgNCmdJl"
      }
    },
    {
      "cell_type": "code",
      "source": [
        "from abc import ABC, abstractmethod\n",
        "\n",
        "class Animal(ABC):\n",
        "    @abstractmethod\n",
        "    def sound(self):\n",
        "        pass\n",
        "\n",
        "class Cow(Animal):\n",
        "    def sound(self):\n",
        "        print(\"Moo\")\n",
        "\n",
        "class Sheep(Animal):\n",
        "    def sound(self):\n",
        "        print(\"Baa\")\n"
      ],
      "metadata": {
        "id": "zo6hZA4muvd-"
      },
      "execution_count": 18,
      "outputs": []
    },
    {
      "cell_type": "markdown",
      "source": [
        " Create a class Book with attributes title, author, and year_published. Add a method get_book_info() that\n",
        "returns a formatted string with the book's details."
      ],
      "metadata": {
        "id": "k5qBrchfmdB5"
      }
    },
    {
      "cell_type": "code",
      "source": [
        "class Book:\n",
        "    def __init__(self, title, author, year_published):\n",
        "        self.title = title\n",
        "        self.author = author\n",
        "        self.year_published = year_published\n",
        "\n",
        "    def get_book_info(self):\n",
        "        return f\"'{self.title}' by {self.author} ({self.year_published})\"\n"
      ],
      "metadata": {
        "id": "5myDbOw9vB-1"
      },
      "execution_count": 19,
      "outputs": []
    },
    {
      "cell_type": "markdown",
      "source": [
        " Create a class House with attributes address and price. Create a derived class Mansion that adds an\n",
        "attribute number_of_rooms."
      ],
      "metadata": {
        "id": "r-4Y8PYSmc-q"
      }
    },
    {
      "cell_type": "code",
      "source": [
        "class House:\n",
        "    def __init__(self, address, price):\n",
        "        self.address = address\n",
        "        self.price = price\n",
        "\n",
        "class Mansion(House):\n",
        "    def __init__(self, address, price, number_of_rooms):\n",
        "        super().__init__(address, price)\n",
        "        self.number_of_rooms = number_of_rooms\n"
      ],
      "metadata": {
        "id": "vtH7eg6rvJPV"
      },
      "execution_count": 20,
      "outputs": []
    }
  ]
}